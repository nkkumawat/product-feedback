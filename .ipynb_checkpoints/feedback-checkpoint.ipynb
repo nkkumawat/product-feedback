{
 "cells": [
  {
   "cell_type": "code",
   "execution_count": 3,
   "metadata": {
    "scrolled": true
   },
   "outputs": [
    {
     "name": "stdout",
     "output_type": "stream",
     "text": [
      "positive\n",
      "negetive\n",
      "positive\n",
      "positive\n"
     ]
    }
   ],
   "source": [
    "import pandas as pd\n",
    "import re , os\n",
    "import nltk\n",
    "from nltk.corpus import stopwords\n",
    "import pickle\n",
    "from nltk.stem.porter import PorterStemmer\n",
    "from sklearn.feature_extraction.text import CountVectorizer\n",
    "from sklearn.cross_validation import train_test_split\n",
    "from sklearn.linear_model import LogisticRegression\n",
    "\n",
    "\n",
    "# from sklearn.discriminant_analysis import LinearDiscriminantAnalysis\n",
    "# from sklearn.naive_bayes import GaussianNB\n",
    "\n",
    "\n",
    "clf_pkl_file = \"classifier.pkl\"\n",
    "count_vectorizer_file = \"count_vectorizer.pkl\"\n",
    "\n",
    "def create_pickle_file(clf , count_vectorizer):\n",
    "    save_clf = open(\"classifier.pkl\" , \"wb\")\n",
    "    pickle.dump(clf , save_clf)\n",
    "    save_clf.close()\n",
    "    save_clf = open(\"count_vectorizer.pkl\" , \"wb\")\n",
    "    pickle.dump(count_vectorizer , save_clf)\n",
    "    save_clf.close()\n",
    "    \n",
    "def get_classifier_count_vctorizer():\n",
    "    if not os.path.isfile(clf_pkl_file) or not os.path.isfile(count_vectorizer_file):\n",
    "        dataset = pd.read_csv('./datasets/datasets.txt', delimiter='\\t', quoting=3,error_bad_lines=False)\n",
    "        corpus = []\n",
    "        for i in range(0, len(dataset)):\n",
    "            feedback = re.sub('[^a-zA-Z]', ' ', dataset['Feedback'][i])\n",
    "            feedback = feedback.lower()\n",
    "            feedback = feedback.split()\n",
    "            ps = PorterStemmer() #  stem the words like increase . increasing and incrimint all are the form of increase word\n",
    "            feedback = [ps.stem(word) for word in feedback if not word in set(stopwords.words('english'))] #remove stopwords\n",
    "            feedback = ' '.join(feedback)\n",
    "            corpus.append(feedback)\n",
    "        count_vectorizer = CountVectorizer(max_features=1500)\n",
    "        count_vectorizer.fit(corpus)\n",
    "        X = count_vectorizer.transform(corpus).toarray()\n",
    "        Y = dataset.iloc[:, 1].values\n",
    "\n",
    "        X_train, X_test, Y_train, Y_test = train_test_split(X, Y, test_size=0.10, random_state=0)\n",
    "\n",
    "        classifier = LogisticRegression(random_state=120)\n",
    "        classifier.fit(X_train, Y_train) \n",
    "        print(classifier.score(X_test , Y_test))\n",
    "        \n",
    "#         classifier = DecisionTreeClassifier(random_state=0)\n",
    "#         classifier.fit(X_train, Y_train) \n",
    "#         print(classifier.score(X_test , Y_test))\n",
    "        \n",
    "        \n",
    "#         classifier = LinearDiscriminantAnalysis()\n",
    "#         classifier.fit(X_train, Y_train) \n",
    "#         print(classifier.score(X_test , Y_test))\n",
    "        create_pickle_file(classifier ,count_vectorizer )\n",
    "    else:\n",
    "        clf_file = open(clf_pkl_file, 'rb') \n",
    "        classifier = pickle.load(clf_file)\n",
    "        count_vec_file =  open(count_vectorizer_file, 'rb')\n",
    "        count_vectorizer = pickle.load(count_vec_file)  \n",
    "    return classifier , count_vectorizer\n",
    "    \n",
    "    \n",
    "        \n",
    "def start_feedback_analysis(feedback):\n",
    "    classifier , count_vectorizer = get_classifier_count_vctorizer()\n",
    "    \n",
    "    feedback = re.sub('[^a-zA-Z]', ' ', feedback)\n",
    "    feedback = feedback.lower()\n",
    "    feedback = feedback.split()\n",
    "    ps = PorterStemmer()\n",
    "    feedback = [ps.stem(word) for word in feedback if not word in set(stopwords.words('english'))]\n",
    "    feedback = ' '.join(feedback)\n",
    "    x = count_vectorizer.transform([feedback])\n",
    "    pred = classifier.predict((x))\n",
    "    if pred[0]:\n",
    "        print(\"positive\")\n",
    "    else:\n",
    "        print(\"negetive\")\n",
    "    \n",
    "start_feedback_analysis(\"very good product\")\n",
    "start_feedback_analysis(\"Looks like its gone now.\")\n",
    "start_feedback_analysis(\"Great food and awesome service!\")\n",
    "start_feedback_analysis(\"Wonderful lil tapas and the ambience made me feel all warm and fuzzy inside.\")\n",
    "    "
   ]
  },
  {
   "cell_type": "code",
   "execution_count": null,
   "metadata": {
    "collapsed": true
   },
   "outputs": [],
   "source": []
  },
  {
   "cell_type": "code",
   "execution_count": null,
   "metadata": {
    "collapsed": true
   },
   "outputs": [],
   "source": []
  }
 ],
 "metadata": {
  "kernelspec": {
   "display_name": "Python 3",
   "language": "python",
   "name": "python3"
  },
  "language_info": {
   "codemirror_mode": {
    "name": "ipython",
    "version": 3
   },
   "file_extension": ".py",
   "mimetype": "text/x-python",
   "name": "python",
   "nbconvert_exporter": "python",
   "pygments_lexer": "ipython3",
   "version": "3.6.3"
  }
 },
 "nbformat": 4,
 "nbformat_minor": 2
}
